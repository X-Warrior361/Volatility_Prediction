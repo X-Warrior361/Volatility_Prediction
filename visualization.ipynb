{
 "cells": [
  {
   "cell_type": "code",
   "execution_count": 1,
   "metadata": {},
   "outputs": [],
   "source": [
    "import pandas as pd\n",
    "import matplotlib.pyplot as plt\n",
    "import seaborn as sns"
   ]
  },
  {
   "cell_type": "code",
   "execution_count": 3,
   "metadata": {},
   "outputs": [
    {
     "data": {
      "text/html": [
       "<div>\n",
       "<style scoped>\n",
       "    .dataframe tbody tr th:only-of-type {\n",
       "        vertical-align: middle;\n",
       "    }\n",
       "\n",
       "    .dataframe tbody tr th {\n",
       "        vertical-align: top;\n",
       "    }\n",
       "\n",
       "    .dataframe thead th {\n",
       "        text-align: right;\n",
       "    }\n",
       "</style>\n",
       "<table border=\"1\" class=\"dataframe\">\n",
       "  <thead>\n",
       "    <tr style=\"text-align: right;\">\n",
       "      <th></th>\n",
       "      <th>Date</th>\n",
       "      <th>Price</th>\n",
       "      <th>Open</th>\n",
       "      <th>High</th>\n",
       "      <th>Low</th>\n",
       "      <th>Vol.</th>\n",
       "      <th>Change %</th>\n",
       "    </tr>\n",
       "  </thead>\n",
       "  <tbody>\n",
       "    <tr>\n",
       "      <th>0</th>\n",
       "      <td>20-04-2022</td>\n",
       "      <td>2,373.00</td>\n",
       "      <td>2,373.00</td>\n",
       "      <td>2,373.00</td>\n",
       "      <td>2,373.00</td>\n",
       "      <td>NaN</td>\n",
       "      <td>3.13%</td>\n",
       "    </tr>\n",
       "    <tr>\n",
       "      <th>1</th>\n",
       "      <td>19-04-2022</td>\n",
       "      <td>2,301.00</td>\n",
       "      <td>2,301.00</td>\n",
       "      <td>2,301.00</td>\n",
       "      <td>2,301.00</td>\n",
       "      <td>NaN</td>\n",
       "      <td>2.22%</td>\n",
       "    </tr>\n",
       "    <tr>\n",
       "      <th>2</th>\n",
       "      <td>18-04-2022</td>\n",
       "      <td>2,251.00</td>\n",
       "      <td>2,251.00</td>\n",
       "      <td>2,251.00</td>\n",
       "      <td>2,251.00</td>\n",
       "      <td>NaN</td>\n",
       "      <td>2.23%</td>\n",
       "    </tr>\n",
       "    <tr>\n",
       "      <th>3</th>\n",
       "      <td>14-04-2022</td>\n",
       "      <td>2,202.00</td>\n",
       "      <td>2,202.00</td>\n",
       "      <td>2,202.00</td>\n",
       "      <td>2,202.00</td>\n",
       "      <td>NaN</td>\n",
       "      <td>0.00%</td>\n",
       "    </tr>\n",
       "    <tr>\n",
       "      <th>4</th>\n",
       "      <td>13-04-2022</td>\n",
       "      <td>2,202.00</td>\n",
       "      <td>2,202.00</td>\n",
       "      <td>2,202.00</td>\n",
       "      <td>2,202.00</td>\n",
       "      <td>NaN</td>\n",
       "      <td>0.00%</td>\n",
       "    </tr>\n",
       "  </tbody>\n",
       "</table>\n",
       "</div>"
      ],
      "text/plain": [
       "         Date     Price      Open      High       Low Vol. Change %\n",
       "0  20-04-2022  2,373.00  2,373.00  2,373.00  2,373.00  NaN    3.13%\n",
       "1  19-04-2022  2,301.00  2,301.00  2,301.00  2,301.00  NaN    2.22%\n",
       "2  18-04-2022  2,251.00  2,251.00  2,251.00  2,251.00  NaN    2.23%\n",
       "3  14-04-2022  2,202.00  2,202.00  2,202.00  2,202.00  NaN    0.00%\n",
       "4  13-04-2022  2,202.00  2,202.00  2,202.00  2,202.00  NaN    0.00%"
      ]
     },
     "execution_count": 3,
     "metadata": {},
     "output_type": "execute_result"
    }
   ],
   "source": [
    "data = pd.read_csv(\"2015_2022_daily data.csv\")\n",
    "data.head()"
   ]
  }
 ],
 "metadata": {
  "kernelspec": {
   "display_name": ".venv",
   "language": "python",
   "name": "python3"
  },
  "language_info": {
   "codemirror_mode": {
    "name": "ipython",
    "version": 3
   },
   "file_extension": ".py",
   "mimetype": "text/x-python",
   "name": "python",
   "nbconvert_exporter": "python",
   "pygments_lexer": "ipython3",
   "version": "3.11.1"
  }
 },
 "nbformat": 4,
 "nbformat_minor": 2
}
